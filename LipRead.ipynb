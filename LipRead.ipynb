{
 "cells": [
  {
   "cell_type": "code",
   "execution_count": 3,
   "id": "e5e55777-d34b-4b85-b5ae-85e52a1fff4f",
   "metadata": {},
   "outputs": [],
   "source": [
    "import tensorflow as tf\n",
    "import cv2\n",
    "import numpy as np\n",
    "from matplotlib import pyplot as plt\n",
    "import os\n",
    "import imageio\n",
    "from typing import List"
   ]
  },
  {
   "cell_type": "code",
   "execution_count": null,
   "id": "e91f969f-58bd-4489-926c-50d9418329da",
   "metadata": {},
   "outputs": [],
   "source": [
    "import gdown\n",
    "url=(\"https://drive.google.com/uc?id=1YlvpDLix3S-U8fd-gqRwPcWXAXm8JwjL\")\n",
    "output=\"data1.zip\"\n",
    "gdown.download(url,output,quiet=True)\n",
    "gdown.extractall(output)"
   ]
  },
  {
   "cell_type": "code",
   "execution_count": 8,
   "id": "256c6b62-3e06-436d-b8a1-ea5663ae2a80",
   "metadata": {},
   "outputs": [],
   "source": [
    "def load_video(path:str)-> List[float]:\n",
    "    cap=cv2.VideoCapture(path)\n",
    "    frames=[]\n",
    "    for _ in range(int(cap.get(cv2.CAP_PROP_FRAME_COUNT))):\n",
    "        ret,frame=cap.read()\n",
    "        frame=tf.image.rgb_to_grayscale(frame)\n",
    "        frames.append(frame[190:236,80:220,:])\n",
    "    cap.release()\n",
    "\n",
    "    mean=tf.math.reduce_mean(frames)\n",
    "    std=tf.math.reduce_std(tf.cast(frames,tf.float32))\n",
    "    return tf.cast(frames-mean,tf.float32)/std\n",
    "\n",
    "        \n",
    "        "
   ]
  },
  {
   "cell_type": "code",
   "execution_count": 4,
   "id": "173fa66c-db4d-43ec-9361-b02661f808bc",
   "metadata": {},
   "outputs": [],
   "source": [
    "vocab=[x for x in \"abcdefghijklmnopqrstuvwxyz'?!123456789 \"]\n",
    "\n",
    "char_to_num=tf.keras.layers.StringLookup(vocabulary=vocab,oov_token=\"\")\n",
    "num_to_char=tf.keras.layers.StringLookup(vocabulary=char_to_num.get_vocabulary(),oov_token=\"\",invert=True)"
   ]
  },
  {
   "cell_type": "code",
   "execution_count": 5,
   "id": "84abe95b-1f98-49e3-9987-4d5db2ee1f56",
   "metadata": {},
   "outputs": [],
   "source": [
    "def load_alignment(path:str)->List[str]:\n",
    "    with open(path,'r') as f:\n",
    "        lines=f.readlines()\n",
    "    token=[]\n",
    "    for line in lines:\n",
    "        line=line.split(\" \")\n",
    "        if(line[2]!=\"sil\"):\n",
    "            tokens=[*token,' ',line[2]]\n",
    "    return char_to_num(tf.reshape(tf.strings.unicode_split(tokens,input_encoding='UTF-8'),(-1)))[1:]"
   ]
  },
  {
   "cell_type": "code",
   "execution_count": 6,
   "id": "3931eb11-718e-4850-96e2-3bcd57c9d19a",
   "metadata": {},
   "outputs": [],
   "source": [
    "def load_data(path:str):\n",
    "    path=tf.convert_to_tensor(path).numpy().decode(\"utf-8\")\n",
    "    file_name=path.split(\"\\\\\")[-1].split(\".\")[0]\n",
    "    video_path=os.path.join(\"data\",\"s1\",file_name+\".mpg\")\n",
    "    alignment_path=os.path.join(\"data\",\"alignments\",\"s1\",file_name+\".align\")\n",
    "    aligns=load_alignment(alignment_path)\n",
    "    frames=load_video(video_path)\n",
    "    return frames,aligns"
   ]
  },
  {
   "cell_type": "code",
   "execution_count": null,
   "id": "3d3cc0d8-4886-46ac-ae2a-4365aff4680a",
   "metadata": {},
   "outputs": [],
   "source": [
    "test_path=\".\\\\data\\\\s1\\\\bbal6n.mpg\"\n",
    "frames,alignments=load_data(test_path)\n",
    "plt.imshow(frames[74])\n",
    "imageio.mimsave('./animation.gif', frames, fps=10)\n",
    "        "
   ]
  },
  {
   "cell_type": "code",
   "execution_count": 10,
   "id": "eed26674-9b31-4e86-a3cf-fb503550e20d",
   "metadata": {},
   "outputs": [],
   "source": [
    "def map_funcn(path:str)->List[str]:\n",
    "    result=tf.py_function(load_data,[path],(tf.float32,tf.int64))\n",
    "    \n",
    "    return result"
   ]
  },
  {
   "cell_type": "code",
   "execution_count": 11,
   "id": "78909e7f-e50d-4218-a07a-517dc4ad0345",
   "metadata": {},
   "outputs": [],
   "source": [
    "data=tf.data.Dataset.list_files(\"./data/s1/*.mpg\")\n",
    "data=data.shuffle(500,reshuffle_each_iteration=False)\n",
    "data=data.map(map_funcn)\n",
    "data=data.padded_batch(2,padded_shapes=([75,None,None,None],[40]))\n",
    "data=data.prefetch(tf.data.AUTOTUNE)\n",
    "train=data.take(450)\n",
    "test=data.skip(450)"
   ]
  },
  {
   "cell_type": "code",
   "execution_count": 12,
   "id": "da451e8f-5a50-40de-8ce2-bbcfa74ca302",
   "metadata": {},
   "outputs": [
    {
     "data": {
      "text/plain": [
       "(2, 75, 46, 140, 1)"
      ]
     },
     "execution_count": 12,
     "metadata": {},
     "output_type": "execute_result"
    }
   ],
   "source": [
    "frames,alignment=train.as_numpy_iterator().next()\n",
    "frames.shape\n"
   ]
  },
  {
   "cell_type": "code",
   "execution_count": 13,
   "id": "db95c770-e0cf-49e7-9404-9275b6352907",
   "metadata": {},
   "outputs": [],
   "source": [
    "from tensorflow.keras.models import Sequential\n",
    "from tensorflow.keras.layers import Conv3D, Conv2D, LSTM, Dense, MaxPooling3D, Bidirectional, Activation, Flatten, TimeDistributed, Dropout,Input\n",
    "from tensorflow.keras.optimizers import Adam\n",
    "from tensorflow.keras.callbacks import ModelCheckpoint, LearningRateScheduler"
   ]
  },
  {
   "cell_type": "code",
   "execution_count": 14,
   "id": "f62ce050-bb69-4303-a424-dd27d7063705",
   "metadata": {},
   "outputs": [
    {
     "name": "stdout",
     "output_type": "stream",
     "text": [
      "Model: \"sequential\"\n",
      "_________________________________________________________________\n",
      " Layer (type)                Output Shape              Param #   \n",
      "=================================================================\n",
      " conv3d (Conv3D)             (None, 75, 46, 140, 128)  3584      \n",
      "                                                                 \n",
      " max_pooling3d (MaxPooling3D  (None, 75, 23, 70, 128)  0         \n",
      " )                                                               \n",
      "                                                                 \n",
      " conv3d_1 (Conv3D)           (None, 75, 23, 70, 256)   884992    \n",
      "                                                                 \n",
      " max_pooling3d_1 (MaxPooling  (None, 75, 11, 35, 256)  0         \n",
      " 3D)                                                             \n",
      "                                                                 \n",
      " conv3d_2 (Conv3D)           (None, 75, 11, 35, 75)    518475    \n",
      "                                                                 \n",
      " max_pooling3d_2 (MaxPooling  (None, 75, 5, 17, 75)    0         \n",
      " 3D)                                                             \n",
      "                                                                 \n",
      " time_distributed (TimeDistr  (None, 75, 6375)         0         \n",
      " ibuted)                                                         \n",
      "                                                                 \n",
      " bidirectional (Bidirectiona  (None, 75, 256)          6660096   \n",
      " l)                                                              \n",
      "                                                                 \n",
      " dropout (Dropout)           (None, 75, 256)           0         \n",
      "                                                                 \n",
      " bidirectional_1 (Bidirectio  (None, 75, 256)          394240    \n",
      " nal)                                                            \n",
      "                                                                 \n",
      " dropout_1 (Dropout)         (None, 75, 256)           0         \n",
      "                                                                 \n",
      " dense (Dense)               (None, 75, 41)            10537     \n",
      "                                                                 \n",
      "=================================================================\n",
      "Total params: 8,471,924\n",
      "Trainable params: 8,471,924\n",
      "Non-trainable params: 0\n",
      "_________________________________________________________________\n"
     ]
    }
   ],
   "source": [
    "model = Sequential()\n",
    "model.add(Conv3D(128, 3, input_shape=(75,46,140,1), padding='same',activation=\"relu\"))\n",
    "model.add(MaxPooling3D((1,2,2)))\n",
    "\n",
    "model.add(Conv3D(256, 3, input_shape=(75,46,140,1), padding='same',activation=\"relu\"))\n",
    "model.add(MaxPooling3D((1,2,2)))\n",
    "\n",
    "model.add(Conv3D(75, 3, input_shape=(75,46,140,1), padding='same', activation=\"relu\"))\n",
    "model.add(MaxPooling3D((1,2,2)))\n",
    "\n",
    "\n",
    "model.add(TimeDistributed(Flatten()))\n",
    "\n",
    "\n",
    "model.add(Bidirectional(LSTM(128, return_sequences=True)))\n",
    "model.add(Dropout(.5))\n",
    "\n",
    "model.add(Bidirectional(LSTM(128, return_sequences=True)))\n",
    "model.add(Dropout(.5))\n",
    "\n",
    "model.add(Dense(char_to_num.vocabulary_size()+1, activation='softmax'))\n",
    "model.summary()"
   ]
  },
  {
   "cell_type": "code",
   "execution_count": 15,
   "id": "3eeff8af-e7e8-48b4-bd9e-2e21f93b85d7",
   "metadata": {},
   "outputs": [],
   "source": [
    "def scheduler(epoch,lr):\n",
    "    if(epoch<30):\n",
    "        return lr\n",
    "    else:\n",
    "        return lr*tf.math.exp(-0.1)"
   ]
  },
  {
   "cell_type": "code",
   "execution_count": 16,
   "id": "c581671e-d08c-49a1-bbca-799c26ffa8f6",
   "metadata": {},
   "outputs": [],
   "source": [
    "def CTCLoss(y_true,y_pred):\n",
    "    batch_len=tf.cast(tf.shape(y_true)[0],dtype=\"int64\")\n",
    "    input_length=tf.cast(tf.shape(y_pred)[1],dtype=\"int64\")\n",
    "    label_length=tf.cast(tf.shape(y_pred)[1],dtype=\"int64\")\n",
    "    input_length=input_length*tf.ones(shape=(batch_len,1),dtype=\"int64\")\n",
    "    label_length=label_length*tf.ones(shape=(batch_len,1),dtype=\"int64\")\n",
    "    loss=tf.keras.backend.ctc_batch_cost(y_true,y_pred,input_length,label_length)\n",
    "    return loss\n"
   ]
  },
  {
   "cell_type": "code",
   "execution_count": 17,
   "id": "5ac6b601-5044-4d1b-b912-62ae223c758e",
   "metadata": {},
   "outputs": [],
   "source": [
    "class example(tf.keras.callbacks.Callback):\n",
    "   \n",
    "    def __init__(self,dataset)->None:\n",
    "        self.dataset=dataset.as_numpy_iterator()\n",
    "    def on_epoch_end(self,epoch,logs=None)->None:\n",
    "        data = self.dataset.next()\n",
    "        yhat = self.model.predict(data[0])\n",
    "        decoded = tf.keras.backend.ctc_decode(yhat, [75,75], greedy=False)[0][0].numpy()\n",
    "        for x in range(len(yhat)):           \n",
    "            print('Original:', tf.strings.reduce_join(num_to_char(data[1][x])).numpy().decode('utf-8'))\n",
    "            print('Prediction:', tf.strings.reduce_join(num_to_char(decoded[x])).numpy().decode('utf-8'))\n",
    "            \n",
    "        "
   ]
  },
  {
   "cell_type": "code",
   "execution_count": 18,
   "id": "e109aaba-3881-4ec6-b655-0f8b8b821cad",
   "metadata": {},
   "outputs": [],
   "source": [
    "model.compile(optimizer=Adam(learning_rate=0.0001),loss=CTCLoss)"
   ]
  },
  {
   "cell_type": "code",
   "execution_count": 19,
   "id": "626fadd3-2820-47d3-9c57-6e916a2f2b71",
   "metadata": {},
   "outputs": [],
   "source": [
    "checkpoint_callback = ModelCheckpoint(os.path.join('models','checkpoint.weights.h5'), monitor='loss', save_weights_only=True)"
   ]
  },
  {
   "cell_type": "code",
   "execution_count": 20,
   "id": "228f621f-2147-411b-aea6-036ed19ad0c3",
   "metadata": {},
   "outputs": [],
   "source": [
    "schedule_callback=LearningRateScheduler(scheduler)"
   ]
  },
  {
   "cell_type": "code",
   "execution_count": 18,
   "id": "b9b6c8a8-b05a-40e3-96eb-aac8ff953be4",
   "metadata": {},
   "outputs": [
    {
     "data": {
      "text/plain": [
       "<__main__.example at 0x23f9662c880>"
      ]
     },
     "execution_count": 18,
     "metadata": {},
     "output_type": "execute_result"
    }
   ],
   "source": [
    "example_callback=example(test)\n",
    "example_callback"
   ]
  },
  {
   "cell_type": "code",
   "execution_count": null,
   "id": "dc75c392-8f72-478c-bf2e-65a130725b46",
   "metadata": {},
   "outputs": [
    {
     "name": "stdout",
     "output_type": "stream",
     "text": [
      "Epoch 1/100\n",
      "107/450 [======>.......................] - ETA: 5:09:32 - loss: inf"
     ]
    }
   ],
   "source": [
    "model.fit(train,validation_data=test,epochs=100,callbacks=[checkpoint_callback,schedule_callback,example_callback])"
   ]
  },
  {
   "cell_type": "code",
   "execution_count": 30,
   "id": "462beef4-fb71-4743-b977-ce936cc79ed0",
   "metadata": {},
   "outputs": [
    {
     "name": "stderr",
     "output_type": "stream",
     "text": [
      "Downloading...\n",
      "From: https://drive.google.com/uc?id=1vWscXs4Vt0a_1IH1-ct2TCgXAZT-N3_Y\n",
      "To: C:\\Users\\charu\\Jupyter\\Lip_Reading_AI\\checkpoints.zip\n",
      "100%|██████████████████████████████████████████████████████████████████████████████| 94.5M/94.5M [04:23<00:00, 358kB/s]\n"
     ]
    },
    {
     "data": {
      "text/plain": [
       "['models\\\\checkpoint.index',\n",
       " 'models\\\\__MACOSX/._checkpoint.index',\n",
       " 'models\\\\checkpoint.data-00000-of-00001',\n",
       " 'models\\\\__MACOSX/._checkpoint.data-00000-of-00001',\n",
       " 'models\\\\checkpoint',\n",
       " 'models\\\\__MACOSX/._checkpoint']"
      ]
     },
     "execution_count": 30,
     "metadata": {},
     "output_type": "execute_result"
    }
   ],
   "source": [
    "import gdown\n",
    "url = 'https://drive.google.com/uc?id=1vWscXs4Vt0a_1IH1-ct2TCgXAZT-N3_Y'\n",
    "output = 'checkpoints.zip'\n",
    "gdown.download(url, output, quiet=False)\n",
    "gdown.extractall('checkpoints.zip', 'models')"
   ]
  },
  {
   "cell_type": "code",
   "execution_count": 21,
   "id": "e742fd7f-a8b5-4122-8dc9-8b32e7e4446b",
   "metadata": {},
   "outputs": [
    {
     "name": "stdout",
     "output_type": "stream",
     "text": [
      "WARNING:tensorflow:Inconsistent references when loading the checkpoint into this object graph. For example, in the saved checkpoint object, `model.layer.weight` and `model.layer_copy.weight` reference the same variable, while in the current object these are two different variables. The referenced variables are:(<keras.layers.convolutional.conv3d.Conv3D object at 0x000001DE9B750A60> and <keras.layers.pooling.max_pooling3d.MaxPooling3D object at 0x000001DE9B750730>).\n",
      "WARNING:tensorflow:Inconsistent references when loading the checkpoint into this object graph. For example, in the saved checkpoint object, `model.layer.weight` and `model.layer_copy.weight` reference the same variable, while in the current object these are two different variables. The referenced variables are:(<keras.layers.convolutional.conv3d.Conv3D object at 0x000001DE9B7539A0> and <keras.layers.rnn.time_distributed.TimeDistributed object at 0x000001DE9B761FF0>).\n",
      "WARNING:tensorflow:Inconsistent references when loading the checkpoint into this object graph. For example, in the saved checkpoint object, `model.layer.weight` and `model.layer_copy.weight` reference the same variable, while in the current object these are two different variables. The referenced variables are:(<keras.layers.rnn.bidirectional.Bidirectional object at 0x000001DE9B752D40> and <keras.layers.regularization.dropout.Dropout object at 0x000001DE9B763670>).\n"
     ]
    },
    {
     "data": {
      "text/plain": [
       "<tensorflow.python.checkpoint.checkpoint.CheckpointLoadStatus at 0x1de9b72b7f0>"
      ]
     },
     "execution_count": 21,
     "metadata": {},
     "output_type": "execute_result"
    }
   ],
   "source": [
    "model.load_weights('models/checkpoint')"
   ]
  },
  {
   "cell_type": "code",
   "execution_count": 22,
   "id": "3c635cee-50ff-4ad2-97b8-372e236f17f6",
   "metadata": {},
   "outputs": [],
   "source": [
    "test_data = test.as_numpy_iterator()"
   ]
  },
  {
   "cell_type": "code",
   "execution_count": 23,
   "id": "9b62d407-d70b-4624-8dc1-cd188f93286f",
   "metadata": {},
   "outputs": [],
   "source": [
    "sample = test_data.next()"
   ]
  },
  {
   "cell_type": "code",
   "execution_count": 26,
   "id": "30098ac1-6df8-497f-b012-b9d76e16338a",
   "metadata": {},
   "outputs": [
    {
     "name": "stdout",
     "output_type": "stream",
     "text": [
      "1/1 [==============================] - 8s 8s/step\n",
      "Real Text, Predicted Text:\n"
     ]
    },
    {
     "data": {
      "text/plain": [
       "[<tf.Tensor: shape=(), dtype=string, numpy=b'set white at u nine soon'>,\n",
       " <tf.Tensor: shape=(), dtype=string, numpy=b'bin red at m five again'>]"
      ]
     },
     "execution_count": 26,
     "metadata": {},
     "output_type": "execute_result"
    }
   ],
   "source": [
    "yhat = model.predict(sample[0])\n",
    "p=[tf.strings.reduce_join([num_to_char(word) for word in sentence]) for sentence in sample[1]]\n",
    "\n",
    "decoded = tf.keras.backend.ctc_decode(yhat, input_length=[75,75], greedy=True)[0][0].numpy()\n",
    "print(\"Real Text, Predicted Text:\",)\n",
    "p1=[tf.strings.reduce_join([num_to_char(word) for word in sentence]) for sentence in decoded]\n",
    "p1"
   ]
  },
  {
   "cell_type": "code",
   "execution_count": null,
   "id": "2316f782-3992-493e-a9ec-1a181b852594",
   "metadata": {},
   "outputs": [],
   "source": []
  }
 ],
 "metadata": {
  "kernelspec": {
   "display_name": "Python 3 (ipykernel)",
   "language": "python",
   "name": "python3"
  },
  "language_info": {
   "codemirror_mode": {
    "name": "ipython",
    "version": 3
   },
   "file_extension": ".py",
   "mimetype": "text/x-python",
   "name": "python",
   "nbconvert_exporter": "python",
   "pygments_lexer": "ipython3",
   "version": "3.10.11"
  }
 },
 "nbformat": 4,
 "nbformat_minor": 5
}
